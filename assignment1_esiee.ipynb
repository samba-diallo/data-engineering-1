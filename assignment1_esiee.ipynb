{
 "cells": [
  {
   "cell_type": "markdown",
   "id": "3fccb597",
   "metadata": {},
   "source": [
    "# ESIEE Paris — Data Engineering I — Assignment 1\n",
    "> Author : Badr TAJINI\n",
    "\n",
    "**Academic year:** 2025–2026  \n",
    "**Program:** Data & Applications - Engineering - (FD)   \n",
    "**Course:** Data Engineering I  \n",
    "\n",
    "---\n",
    "\n",
    "In this assignment, you'll make sure that you've correctly set up your local Spark environment.\n",
    "You'll then complete a classic \"Word Count\" task on the `description` column of the `a1-brand.csv` file.\n",
    "\n",
    "You can think of \"Word Count\" as the \"Hello World!\" of Hadoop, Spark, etc.\n",
    "The task is simple: We want to count the total number of times each word occurs (in a potentially large collection of text).\n",
    "Typically, we want to sort by the counts in descending order so we can examine the most frequently occurring words."
   ]
  },
  {
   "cell_type": "markdown",
   "id": "a0ac1598",
   "metadata": {},
   "source": [
    "## Learning goals\n",
    "- Confirm local Spark environment in JupyterLab.\n",
    "- Implement word-count using **RDD** and **DataFrame** APIs.\n",
    "- Produce top-10 tokens with and without stopwords.\n",
    "- Record brief performance notes and environment details.\n"
   ]
  },
  {
   "cell_type": "markdown",
   "id": "2853064b",
   "metadata": {},
   "source": [
    "## 1. Setup\n",
    "\n",
    "The following code snippet should \"just work\" to initialize Spark.\n",
    "If it doesn't, consult the **helper and Lab 0 with installation and setup guide**."
   ]
  },
  {
   "cell_type": "code",
   "execution_count": null,
   "id": "e10d1601-4445-4fa7-8ca9-656dd87679c8",
   "metadata": {},
   "outputs": [],
   "source": [
    "import findspark, os\n",
    "os.environ[\"SPARK_HOME\"] = \"/path/to/spark-4.0.0-bin-hadoop3\"\n",
    "findspark.init()"
   ]
  },
  {
   "cell_type": "markdown",
   "id": "17950740",
   "metadata": {},
   "source": [
    "Edit the path below to point to your local copy of `a1-brand.csv`. \n",
    "\n",
    "Examples:\n",
    "- macOS/Linux: `/Users/yourname/data/a1-brand.csv`\n",
    "- Windows: `C:\\\\Users\\\\yourname\\\\data\\\\a1-brand.csv`"
   ]
  },
  {
   "cell_type": "code",
   "execution_count": 1,
   "id": "578fd221",
   "metadata": {},
   "outputs": [],
   "source": [
    "# TODO: Set the path to a1-brand.csv\n",
    "DATA_PATH = \"/path/to/a1-brand.csv\""
   ]
  },
  {
   "cell_type": "markdown",
   "id": "77fdc36a",
   "metadata": {},
   "source": [
    "Import PySpark:"
   ]
  },
  {
   "cell_type": "code",
   "execution_count": 2,
   "id": "636b041f",
   "metadata": {},
   "outputs": [],
   "source": [
    "import sys, re\n",
    "from pyspark.sql import SparkSession, functions as F, types as T\n",
    "from pyspark.sql.functions import col"
   ]
  },
  {
   "cell_type": "markdown",
   "id": "1eaebd90",
   "metadata": {},
   "source": [
    "Set up to measure wall time and memory. (Don't worry about the details, just run the cell)\n"
   ]
  },
  {
   "cell_type": "code",
   "execution_count": null,
   "id": "980f90dc",
   "metadata": {},
   "outputs": [],
   "source": [
    "from IPython.core.magic import register_cell_magic\n",
    "import time, os, platform\n",
    "import psutil, resource\n",
    "\n",
    "def _rss_bytes():\n",
    "    return psutil.Process(os.getpid()).memory_info().rss\n",
    "\n",
    "def _ru_maxrss_bytes():\n",
    "    # ru_maxrss: bytes on macOS; kilobytes on Linux\n",
    "    ru = resource.getrusage(resource.RUSAGE_SELF).ru_maxrss\n",
    "    if platform.system() == \"Darwin\":\n",
    "        return int(ru)  # bytes\n",
    "    else:\n",
    "        return int(ru) * 1024  # KB -> bytes\n",
    "\n",
    "@register_cell_magic\n",
    "def timemem(line, cell):\n",
    "    \"\"\"\n",
    "    Measure wall time and memory around the execution of this cell.\n",
    "    Usage:\n",
    "        %%timemem\n",
    "        <your code>\n",
    "    \"\"\"\n",
    "    ip = get_ipython()\n",
    "    rss_before = _rss_bytes()\n",
    "    peak_before = _ru_maxrss_bytes()\n",
    "    t0 = time.perf_counter()\n",
    "\n",
    "    # Execute the cell body\n",
    "    result = ip.run_cell(cell)\n",
    "\n",
    "    t1 = time.perf_counter()\n",
    "    rss_after = _rss_bytes()\n",
    "    peak_after = _ru_maxrss_bytes()\n",
    "\n",
    "    wall = t1 - t0\n",
    "    rss_delta_mb = (rss_after - rss_before) / (1024*1024)\n",
    "    peak_delta_mb = (peak_after - peak_before) / (1024*1024)\n",
    "\n",
    "    print(\"======================================\")\n",
    "    print(f\"Wall time: {wall:.3f} s\")\n",
    "    print(f\"RSS Δ: {rss_delta_mb:+.2f} MB\")\n",
    "    print(f\"Peak memory Δ: {peak_delta_mb:+.2f} MB (OS-dependent)\")\n",
    "    print(\"======================================\")\n",
    "\n",
    "    return result"
   ]
  },
  {
   "cell_type": "markdown",
   "id": "bbdbf067",
   "metadata": {},
   "source": [
    "Start a local Spark session (i.e., a `SparkContext`):"
   ]
  },
  {
   "cell_type": "code",
   "execution_count": null,
   "id": "f3506b62",
   "metadata": {},
   "outputs": [],
   "source": [
    "%%timemem\n",
    "\n",
    "spark = (\n",
    "    SparkSession.builder\n",
    "    .appName(\"Assignment1\")\n",
    "    .master(\"local[*]\")            # Use all local cores\n",
    "    .config(\"spark.ui.showConsoleProgress\", \"true\")\n",
    "    .getOrCreate()\n",
    ")\n",
    "\n",
    "spark"
   ]
  },
  {
   "cell_type": "markdown",
   "id": "150dde24",
   "metadata": {},
   "source": [
    "If you've gotten to here, congrats! Everything seems to have been set up and initialized properly!"
   ]
  },
  {
   "cell_type": "markdown",
   "id": "2d60c051-264c-4c9d-88ef-d9a24c241d8e",
   "metadata": {},
   "source": [
    "## 2. Word Count with RDDs"
   ]
  },
  {
   "cell_type": "markdown",
   "id": "d4d740f5-5dfd-42b0-905e-3fd3a7f20134",
   "metadata": {},
   "source": [
    "First, let's read the `a1-brand.csv` file into an RDD.\n",
    "\n",
    "**write some code here**\n",
    "\n",
    "**Hints:**\n",
    "\n",
    "- You'll want to fetch the `SparkContext` from the `SparkSession`.\n",
    "- There's a method of the `SparkContext` for reading in text files.\n",
    "- This simple exercise should only take two lines. If you find yourself writing more code, you're doing something wrong..."
   ]
  },
  {
   "cell_type": "code",
   "execution_count": null,
   "id": "42c7ef3f",
   "metadata": {},
   "outputs": [],
   "source": [
    "%%timemem\n",
    "\n",
    "# TODO: Write your code below, but do not remove any lines already in this cell.\n",
    "\n",
    "\n",
    "\n",
    "# By the time we get to here, \"lines\" should refer to an RDD with the brand file loaded.\n",
    "# Let's count the lines.\n",
    "\n",
    "lines.count()"
   ]
  },
  {
   "cell_type": "markdown",
   "id": "1cb387ef",
   "metadata": {},
   "source": [
    "Next, clean and tokenize text, and then find the 10 most common words.\n",
    "\n",
    "**write some code here**\n",
    "\n",
    "**Required Steps:**\n",
    "\n",
    "- Lowercase all text.\n",
    "- Replace non-letter characters (`[^a-z]`) with spaces.\n",
    "- Split on whitespace into tokens.\n",
    "- Remove tokens with length < 2.\n",
    "\n",
    "**Hints:**\n",
    "\n",
    "- You _must_ use `flatMap` and other RDD operations in this step. If you're not, you're doing something wrong...\n",
    "- At the end, you'll need to `collect` the output.\n"
   ]
  },
  {
   "cell_type": "code",
   "execution_count": null,
   "id": "806a5885",
   "metadata": {},
   "outputs": [],
   "source": [
    "%%timemem\n",
    "\n",
    "# TODO: Write your code below, but do not remove any lines already in this cell.\n",
    "\n",
    "\n",
    "\n",
    "# By the time we get to here \"word_counts\" already has the collected output, sorted by frequency in descending order.\n",
    "# So we just print out the top-10.\n",
    "\n",
    "for word, count in word_counts[:10]:\n",
    "    print(f\"{word}: {count}\")"
   ]
  },
  {
   "cell_type": "markdown",
   "id": "d34d215c",
   "metadata": {},
   "source": [
    "## 3. Word Count with DataFrames"
   ]
  },
  {
   "cell_type": "markdown",
   "id": "2f5672f0-63ec-4f0e-b784-1684e1c7a7e8",
   "metadata": {},
   "source": [
    "### 3.1 Again, Just with DataFrames\n",
    "\n",
    "Now, we're going to do the same thing, but with DataFrames instead of RDDs.\n",
    "\n",
    "What's the difference, you ask? We'll cover it in lecture soon enough!\n",
    "\n",
    "**write some code here**\n",
    "\n",
    "**Hints:**\n",
    "\n",
    "- Here, you'll use the `SparkSession`.\n",
    "- Loading a DataFrame is a single method call. If you find yourself writing more code, you're doing something wrong...\n",
    "- When loading the CSV file, be aware of your escape character; use something like `.option(\"escape\", ...)`."
   ]
  },
  {
   "cell_type": "code",
   "execution_count": null,
   "id": "e99b288e",
   "metadata": {},
   "outputs": [],
   "source": [
    "%%timemem\n",
    "\n",
    "# TODO: Write your code below, but do not remove any lines already in this cell.\n",
    "\n",
    "\n",
    "\n",
    "# By the time we get to here, the file should have already been loaded into a DataFrame.\n",
    "# Here, we just inspect it.\n",
    "\n",
    "print(\"Rows:\", df.count())\n",
    "df.printSchema()\n",
    "df.select(\"description\").show(5, truncate=80)"
   ]
  },
  {
   "cell_type": "markdown",
   "id": "4882eacc",
   "metadata": {},
   "source": [
    "Next, clean and tokenize text, and then find the 10 most common (i.e., frequently occurring) words.\n",
    "This attempts the same processing as word count with RDDs above, except here you're using a DataFrame.\n",
    "\n",
    "**write some code here**\n",
    "\n",
    "**Required Steps:** (Exactly the same as above.)\n",
    "\n",
    "- Lowercase all text.\n",
    "- Replace non-letter characters (`[^a-z]`) with spaces.\n",
    "- Split on whitespace into tokens.\n",
    "- Remove tokens with length < 2.\n",
    "\n",
    "**Hints:**\n",
    "\n",
    "- You _must_ use `explode` and other Spark DataFrame operations in this exercise.\n",
    "- This exercise shouldn't take more than (roughly) a dozen lines. If you find yourself writing more code, you're doing something wrong..."
   ]
  },
  {
   "cell_type": "code",
   "execution_count": null,
   "id": "dec84df4",
   "metadata": {},
   "outputs": [],
   "source": [
    "%%timemem\n",
    "\n",
    "# TODO: Write your code below, but do not remove any lines already in this cell.\n",
    "\n",
    "\n",
    "\n",
    "# By the time we get to here \"word_counts\" is a DataFrame that already has the word counts sorted in descending order.\n",
    "# So we just print out the top-10.\n",
    "\n",
    "top10 = word_counts.limit(10)\n",
    "top10.show()"
   ]
  },
  {
   "cell_type": "markdown",
   "id": "fede1ca2",
   "metadata": {},
   "source": [
    "**Questions to reflect on**:\n",
    "\n",
    "- What is conceptually different about how Spark executes `flatMap` and `explode`?\n",
    "- What are the advantages or disadvantages of using each of them? \n",
    "- Are there cases where you may prefer one over the other?\n",
    "\n",
    "(No need to write answers in the assignment submission. Just think about it...)"
   ]
  },
  {
   "cell_type": "markdown",
   "id": "8505e64e",
   "metadata": {},
   "source": [
    "**Question to actually answer**:\n",
    "\n",
    "Does the RDD approach and the DataFrame approach give the same answers? Explain why or why not."
   ]
  },
  {
   "cell_type": "markdown",
   "id": "060a1265-558b-464f-8c85-e9c553ba9fad",
   "metadata": {},
   "source": [
    "**Write your answer to the above question!**"
   ]
  },
  {
   "cell_type": "markdown",
   "id": "479ca759",
   "metadata": {},
   "source": [
    "### 3.1 Removing Stopwords\n",
    "\n",
    "You've probably noticed that many of the most frequently occurring words are not providing us any indication about the content because they are words like \"in\", \"the\", \"for\", etc.\n",
    "These are called stopwords.\n",
    "\n",
    "Let's remove stopwords and count again!\n",
    "\n",
    "**write some code here**\n",
    "\n",
    "**Hints:**\n",
    "\n",
    "- Filter out all stopwords from the DataFrame before counting.\n",
    "- Use `StopWordsRemover` from `pyspark.ml.feature`."
   ]
  },
  {
   "cell_type": "code",
   "execution_count": null,
   "id": "341c7d28",
   "metadata": {},
   "outputs": [],
   "source": [
    "%%timemem\n",
    "\n",
    "# TODO: Write your code below, but do not remove any lines already in this cell.\n",
    "\n",
    "import numpy\n",
    "from pyspark.ml.feature import StopWordsRemover\n",
    "\n",
    "\n",
    "\n",
    "# By the time we get to here \"word_counts_noStopWords\" is a DataFrame that already has the word counts sorted in descending order.\n",
    "# So we just print out the top-10.\n",
    "\n",
    "top10_noStopWords = word_counts_noStopWords.limit(10)\n",
    "top10_noStopWords.show()"
   ]
  },
  {
   "cell_type": "markdown",
   "id": "f623f34a",
   "metadata": {},
   "source": [
    "### 3.2 Saving Results to CSV\n",
    "\n",
    "+ Save the results of the top-10 most frequently occurring words _with stopwords_, as a CSV file, to `top10_words.csv`.\n",
    "+ Save the results of the top-10 frequently occurring words _discarding stopwords_, as a CSV file, to `top10_noStopWords.csv`.\n",
    "\n",
    "**write some code here**"
   ]
  },
  {
   "cell_type": "code",
   "execution_count": null,
   "id": "c5e082af",
   "metadata": {},
   "outputs": [],
   "source": [
    "%%timemem\n",
    "\n",
    "# TODO: Write your code below, but do not remove any lines already in this cell.\n",
    "\n",
    "\n"
   ]
  },
  {
   "cell_type": "markdown",
   "id": "f89fac7f",
   "metadata": {},
   "source": [
    "## 4. Assignment Submission and Cleanup\n",
    "\n",
    "Details about the Submission of this assignment are outlined in the helper. Please read carefully the instructions.\n",
    "\n",
    "Finally, clean up!"
   ]
  },
  {
   "cell_type": "code",
   "execution_count": null,
   "id": "3b071ae2",
   "metadata": {},
   "outputs": [],
   "source": [
    "spark.stop()"
   ]
  },
  {
   "cell_type": "markdown",
   "id": "96409bb6",
   "metadata": {},
   "source": [
    "## Performance notes"
   ]
  },
  {
   "cell_type": "markdown",
   "id": "2d4c5299",
   "metadata": {},
   "source": [
    "- Prefer DataFrame built-ins; avoid Python UDFs for tokenization where possible.\n",
    "- Keep shuffle partitions modest on local runs.\n",
    "- Cache wisely and avoid unnecessary actions.\n"
   ]
  },
  {
   "cell_type": "markdown",
   "id": "257f18f3",
   "metadata": {},
   "source": [
    "## Reproducibility checklist"
   ]
  },
  {
   "cell_type": "markdown",
   "id": "64031975",
   "metadata": {},
   "source": [
    "- Record Python/Java/Spark versions.\n",
    "- Fix timezone to UTC.\n",
    "- Provide exact run command and paths to input/output files.\n"
   ]
  }
 ],
 "metadata": {
  "kernelspec": {
   "display_name": "de1-env",
   "language": "python",
   "name": "python3"
  },
  "language_info": {
   "codemirror_mode": {
    "name": "ipython",
    "version": 3
   },
   "file_extension": ".py",
   "mimetype": "text/x-python",
   "name": "python",
   "nbconvert_exporter": "python",
   "pygments_lexer": "ipython3",
   "version": "3.10.18"
  }
 },
 "nbformat": 4,
 "nbformat_minor": 5
}
