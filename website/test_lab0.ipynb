{
 "cells": [
  {
   "cell_type": "markdown",
   "id": "31d6e04f",
   "metadata": {},
   "source": []
  },
  {
   "cell_type": "markdown",
   "id": "a0c0fb42",
   "metadata": {},
   "source": [
    "**DE1_Installation_Guide**"
   ]
  },
  {
   "cell_type": "code",
   "execution_count": 2,
   "id": "290d7f0e",
   "metadata": {},
   "outputs": [
    {
     "name": "stderr",
     "output_type": "stream",
     "text": [
      "WARNING: Using incubator modules: jdk.incubator.vector\n",
      "Using Spark's default log4j profile: org/apache/spark/log4j2-defaults.properties\n",
      "25/10/18 23:54:46 WARN Utils: Your hostname, sable-ThinkPad-X1-Yoga-3rd, resolves to a loopback address: 127.0.1.1; using 10.192.33.105 instead (on interface wlp2s0)\n",
      "25/10/18 23:54:46 WARN Utils: Set SPARK_LOCAL_IP if you need to bind to another address\n",
      "Using Spark's default log4j profile: org/apache/spark/log4j2-defaults.properties\n",
      "Setting default log level to \"WARN\".\n",
      "To adjust logging level use sc.setLogLevel(newLevel). For SparkR, use setLogLevel(newLevel).\n",
      "25/10/18 23:54:47 WARN NativeCodeLoader: Unable to load native-hadoop library for your platform... using builtin-java classes where applicable\n"
     ]
    },
    {
     "name": "stdout",
     "output_type": "stream",
     "text": [
      "Spark: 4.0.1\n",
      "PySpark: 4.0.1\n"
     ]
    }
   ],
   "source": [
    "import findspark, pyspark\n",
    "from pyspark.sql import SparkSession\n",
    "findspark.init()\n",
    "spark = SparkSession.builder.appName(\"de1-check\").getOrCreate()\n",
    "print(\"Spark:\", spark.version)\n",
    "print(\"PySpark:\", pyspark.__version__)"
   ]
  },
  {
   "cell_type": "markdown",
   "id": "5b138c8e",
   "metadata": {},
   "source": [
    "**Lire un CSV et imprimer un plan formaté**"
   ]
  },
  {
   "cell_type": "code",
   "execution_count": 4,
   "id": "c36b0ee2",
   "metadata": {},
   "outputs": [
    {
     "name": "stderr",
     "output_type": "stream",
     "text": [
      "                                                                                \r"
     ]
    },
    {
     "name": "stdout",
     "output_type": "stream",
     "text": [
      "+---+-------+-----+\n",
      "| id|   name|value|\n",
      "+---+-------+-----+\n",
      "|  1|  Alice|   10|\n",
      "|  2|    Bob|   20|\n",
      "|  3|Charlie|   30|\n",
      "|  4|  David|   40|\n",
      "|  5|    Eve|   50|\n",
      "+---+-------+-----+\n",
      "\n",
      "== Physical Plan ==\n",
      "Scan csv  (1)\n",
      "\n",
      "\n",
      "(1) Scan csv \n",
      "Output [3]: [id#17, name#18, value#19]\n",
      "Batched: false\n",
      "Location: InMemoryFileIndex [file:/home/sable/Documents/data engineering1/sample.csv]\n",
      "ReadSchema: struct<id:string,name:string,value:string>\n",
      "\n",
      "\n"
     ]
    }
   ],
   "source": [
    "df = spark.read.option(\"header\",\"true\").csv(\"/home/sable/Documents/data engineering1/sample.csv\")\n",
    "df.show(5)\n",
    "df.explain(\"formatted\")"
   ]
  }
 ],
 "metadata": {
  "kernelspec": {
   "display_name": "de1-env",
   "language": "python",
   "name": "python3"
  },
  "language_info": {
   "codemirror_mode": {
    "name": "ipython",
    "version": 3
   },
   "file_extension": ".py",
   "mimetype": "text/x-python",
   "name": "python",
   "nbconvert_exporter": "python",
   "pygments_lexer": "ipython3",
   "version": "3.10.18"
  }
 },
 "nbformat": 4,
 "nbformat_minor": 5
}
