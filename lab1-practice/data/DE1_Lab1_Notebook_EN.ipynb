{
  "cells": [
    {
      "cell_type": "markdown",
      "id": "277c690a",
      "metadata": {},
      "source": [
        "# DE1 — Lab 1: PySpark Warmup and Reading Plans\n",
        "> Author : Badr TAJINI - Data Engineering I - ESIEE 2025-2026\n",
        "---\n",
        "\n",
        "This notebook is the **student deliverable**. Execute all cells and attach evidence."
      ]
    },
    {
      "cell_type": "markdown",
      "id": "f54548a3",
      "metadata": {},
      "source": [
        "## 0. Imports and Spark session"
      ]
    },
    {
      "cell_type": "code",
      "execution_count": null,
      "id": "199cf7c9",
      "metadata": {},
      "outputs": [
        {
          "name": "stdout",
          "output_type": "stream",
          "text": [
            "Python: 3.10.18 (main, Jun  5 2025, 13:14:17) [GCC 11.2.0]\n",
            "Spark: 4.0.1\n"
          ]
        }
      ],
      "source": [
        "import os, sys, datetime, pathlib\n",
        "from pyspark.sql import SparkSession, functions as F\n",
        "print(\"Python:\", sys.version)\n",
        "spark = SparkSession.builder.appName(\"de1-lab1\").getOrCreate()\n",
        "print(\"Spark:\", spark.version)\n"
      ]
    },
    {
      "cell_type": "markdown",
      "id": "38d51e22",
      "metadata": {},
      "source": [
        "## 1. Load the CSV inputs"
      ]
    },
    {
      "cell_type": "code",
      "execution_count": null,
      "id": "f0c6dd2d",
      "metadata": {},
      "outputs": [
        {
          "name": "stdout",
          "output_type": "stream",
          "text": [
            "Rows: 2700\n",
            "root\n",
            " |-- id: integer (nullable = true)\n",
            " |-- category: string (nullable = true)\n",
            " |-- value: double (nullable = true)\n",
            " |-- text: string (nullable = true)\n",
            "\n",
            "+---+-----------+-----+----------------------------------------------------------------------------+\n",
            "|id |category   |value|text                                                                        |\n",
            "+---+-----------+-----+----------------------------------------------------------------------------+\n",
            "|0  |toys       |48.47|metrics ui data elt row columnar reduce warehouse shuffle join spark elt    |\n",
            "|1  |books      |39.9 |metrics row lake aggregate columnar data reduce row columnar filter         |\n",
            "|2  |grocery    |7.96 |lake join partition scala elt data                                          |\n",
            "|3  |electronics|5.15 |spark scala elt filter join columnar lake lake plan warehouse columnar spark|\n",
            "|4  |toys       |44.87|aggregate metrics row row filter lake map metrics columnar spark            |\n",
            "+---+-----------+-----+----------------------------------------------------------------------------+\n",
            "only showing top 5 rows\n"
          ]
        }
      ],
      "source": [
        "src_a = \"data/lab1_dataset_a.csv\"\n",
        "src_b = \"data/lab1_dataset_b.csv\"\n",
        "df_a = spark.read.option(\"header\",\"true\").option(\"inferSchema\",\"true\").csv(src_a)\n",
        "df_b = spark.read.option(\"header\",\"true\").option(\"inferSchema\",\"true\").csv(src_b)\n",
        "df = df_a.unionByName(df_b)\n",
        "df.cache()\n",
        "print(\"Rows:\", df.count())\n",
        "df.printSchema()\n",
        "df.show(5, truncate=False)\n"
      ]
    },
    {
      "cell_type": "markdown",
      "id": "7ac5d292",
      "metadata": {},
      "source": [
        "## 2. Top‑N with **RDD** API"
      ]
    },
    {
      "cell_type": "code",
      "execution_count": null,
      "id": "98c75bd2",
      "metadata": {},
      "outputs": [],
      "source": [
        "# RDD pipeline: tokenize 'text' column and count tokens\n",
        "rdd = df.select(\"text\").rdd.flatMap(lambda row: (row[0] or \"\").lower().split())\n",
        "pair = rdd.map(lambda t: (t, 1))\n",
        "counts = pair.reduceByKey(lambda a,b: a+b)\n",
        "top_rdd = counts.sortBy(lambda kv: (-kv[1], kv[0])).take(10)\n",
        "top_rdd\n"
      ]
    },
    {
      "cell_type": "code",
      "execution_count": null,
      "id": "8f79d2e8",
      "metadata": {},
      "outputs": [],
      "source": [
        "# Save as CSV (token,count)\n",
        "pathlib.Path(\"outputs\").mkdir(exist_ok=True)\n",
        "with open(\"outputs/top10_rdd.csv\",\"w\",encoding=\"utf-8\") as f:\n",
        "    f.write(\"token,count\\n\")\n",
        "    for t,c in top_rdd:\n",
        "        f.write(f\"{t},{c}\\n\")\n",
        "print(\"Wrote outputs/top10_rdd.csv\")\n"
      ]
    },
    {
      "cell_type": "markdown",
      "id": "b9a71d88",
      "metadata": {},
      "source": [
        "### RDD plan — evidence"
      ]
    },
    {
      "cell_type": "code",
      "execution_count": null,
      "id": "7999639c",
      "metadata": {},
      "outputs": [],
      "source": [
        "# Trigger an action and record a textual plan for evidence\n",
        "_ = counts.count()\n",
        "plan_rdd = df._jdf.queryExecution().executedPlan().toString()\n",
        "pathlib.Path(\"proof\").mkdir(exist_ok=True)\n",
        "with open(\"proof/plan_rdd.txt\",\"w\") as f:\n",
        "    f.write(str(datetime.datetime.now()) + \"\\n\\n\")\n",
        "    f.write(plan_rdd)\n",
        "print(\"Saved proof/plan_rdd.txt\")\n"
      ]
    },
    {
      "cell_type": "markdown",
      "id": "2bb015a3",
      "metadata": {},
      "source": [
        "## 3. Top‑N with **DataFrame** API"
      ]
    },
    {
      "cell_type": "code",
      "execution_count": null,
      "id": "c205ed41",
      "metadata": {},
      "outputs": [],
      "source": [
        "tokens = F.explode(F.split(F.lower(F.col(\"text\")), \"\\\\s+\")).alias(\"token\")\n",
        "df_tokens = df.select(tokens).where(F.col(\"token\") != \"\")\n",
        "agg_df = df_tokens.groupBy(\"token\").agg(F.count(\"*\").alias(\"count\"))\n",
        "top_df = agg_df.orderBy(F.desc(\"count\"), F.asc(\"token\")).limit(10)\n",
        "top_df.show(truncate=False)\n",
        "top_df.coalesce(1).write.mode(\"overwrite\").option(\"header\",\"true\").csv(\"outputs/top10_df_tmp\")\n",
        "# move single part file to stable path\n",
        "import glob, shutil\n",
        "part = glob.glob(\"outputs/top10_df_tmp/part*\")[0]\n",
        "shutil.copy(part, \"outputs/top10_df.csv\")\n",
        "print(\"Wrote outputs/top10_df.csv\")\n"
      ]
    },
    {
      "cell_type": "markdown",
      "id": "c3d0f80d",
      "metadata": {},
      "source": [
        "### DataFrame plan — evidence"
      ]
    },
    {
      "cell_type": "code",
      "execution_count": null,
      "id": "5b14fe8c",
      "metadata": {},
      "outputs": [],
      "source": [
        "plan_df = top_df._jdf.queryExecution().executedPlan().toString()\n",
        "with open(\"proof/plan_df.txt\",\"w\") as f:\n",
        "    f.write(str(datetime.datetime.now()) + \"\\n\\n\")\n",
        "    f.write(plan_df)\n",
        "print(\"Saved proof/plan_df.txt\")\n"
      ]
    },
    {
      "cell_type": "markdown",
      "id": "26353e14",
      "metadata": {},
      "source": [
        "## 4. Projection experiment: `select(\"*\")` vs minimal projection"
      ]
    },
    {
      "cell_type": "code",
      "execution_count": null,
      "id": "897926c4",
      "metadata": {},
      "outputs": [],
      "source": [
        "# Case A: select all columns then aggregate on 'category'\n",
        "all_cols = df.select(\"*\").groupBy(\"category\").agg(F.sum(\"value\").alias(\"sum_value\"))\n",
        "all_cols.explain(\"formatted\")\n",
        "_ = all_cols.count()  # trigger\n",
        "\n",
        "# Case B: minimal projection then aggregate\n",
        "proj = df.select(\"category\",\"value\").groupBy(\"category\").agg(F.sum(\"value\").alias(\"sum_value\"))\n",
        "proj.explain(\"formatted\")\n",
        "_ = proj.count()  # trigger\n",
        "\n",
        "print(\"Open Spark UI at http://localhost:4040 while each job runs and record metrics into lab1_metrics_log.csv\")\n"
      ]
    },
    {
      "cell_type": "markdown",
      "id": "9a1c0e6b",
      "metadata": {},
      "source": [
        "## 5. Cleanup"
      ]
    },
    {
      "cell_type": "code",
      "execution_count": null,
      "id": "26d39b5c",
      "metadata": {},
      "outputs": [],
      "source": [
        "spark.stop()\n",
        "print(\"Spark session stopped.\")\n"
      ]
    }
  ],
  "metadata": {
    "kernelspec": {
      "display_name": "Python 3",
      "name": "python3"
    }
  },
  "nbformat": 4,
  "nbformat_minor": 5
}
